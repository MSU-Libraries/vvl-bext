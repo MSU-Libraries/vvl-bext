{
 "cells": [
  {
   "cell_type": "markdown",
   "metadata": {},
   "source": [
    "#### Processing VVL Database\n",
    "\n",
    "The scripts on the next few lines process data pulled from the VVL database, and organize it into a CSV structure of 1 record per line containing information to add to WAV file headers.\n",
    "\n",
    "The 3 in `vvlbext3` refers to this being a Python 3 script, as opposed to the original version (in Python 2)"
   ]
  },
  {
   "cell_type": "code",
   "execution_count": 1,
   "metadata": {
    "collapsed": false
   },
   "outputs": [
    {
     "name": "stdout",
     "output_type": "stream",
     "text": [
      "Processed 1000 rows\n",
      "Processed 1000 rows\n",
      "Processed 2000 rows\n",
      "Processed 2000 rows\n",
      "Processed 3000 rows\n",
      "Processed 3000 rows\n",
      "Processed 4000 rows\n",
      "Processed 4000 rows\n",
      "Processed 5000 rows\n",
      "Processed 5000 rows\n",
      "Processed 6000 rows\n",
      "Processed 6000 rows\n",
      "Processed 6000 rows\n",
      "Processed 7000 rows\n",
      "Processed 7000 rows\n",
      "Processed 8000 rows\n",
      "Processed 8000 rows\n",
      "Processed 8000 rows\n",
      "Processed 9000 rows\n",
      "Processed 9000 rows\n",
      "Processed 10000 rows\n",
      "Processed 10000 rows\n",
      "Processed 11000 rows\n",
      "Processed 11000 rows\n",
      "Processed 12000 rows\n",
      "Processed 12000 rows\n",
      "Processed 13000 rows\n",
      "Processed 13000 rows\n",
      "Processed 14000 rows\n",
      "Processed 15000 rows\n",
      "Processed 15000 rows\n",
      "Processed 16000 rows\n",
      "Error processing row with ID DPACASS046\"\n",
      "Error processing row with ID DPACASS045(C50)\"\n",
      "Error processing row with ID DPACASS045(C50)A\"\n",
      "Error processing row with ID DPACASS051(M13)\"\n",
      "Error processing row with ID DPACASS068\"\n",
      "Error processing row with ID DPACASS075\"\n"
     ]
    }
   ],
   "source": [
    "from vvlbext3 import VvlBext\n",
    "vvl = VvlBext()\n",
    "vvl.process_csv(\"background/vvl_ryan_20151106.csv\", \"output/bext_november.csv\")"
   ]
  },
  {
   "cell_type": "code",
   "execution_count": null,
   "metadata": {
    "collapsed": true
   },
   "outputs": [],
   "source": []
  }
 ],
 "metadata": {
  "kernelspec": {
   "display_name": "Python 3",
   "language": "python",
   "name": "python3"
  },
  "language_info": {
   "codemirror_mode": {
    "name": "ipython",
    "version": 3
   },
   "file_extension": ".py",
   "mimetype": "text/x-python",
   "name": "python",
   "nbconvert_exporter": "python",
   "pygments_lexer": "ipython3",
   "version": "3.5.0"
  }
 },
 "nbformat": 4,
 "nbformat_minor": 0
}
